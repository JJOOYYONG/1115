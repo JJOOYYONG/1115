{
 "cells": [
  {
   "cell_type": "code",
   "execution_count": 17,
   "metadata": {},
   "outputs": [
    {
     "name": "stdout",
     "output_type": "stream",
     "text": [
      "현재 선수의 등번호는: 10\n",
      "선수의 등번호를 변경한다:from 10 to 5\n",
      "현재 선수의 등번호는: 5\n",
      "=====이름 바꾸기===========\n",
      "현재 선수의 이름은: James\n",
      "선수의 이름을 변경한다:from James to max\n",
      "현재 선수의 이름은: max\n",
      "hello my name is max.I paly in MF in center.\n"
     ]
    }
   ],
   "source": [
    "#객체 : 자료 와 기능을 캡슐화, 이러한 기능을 가진 클래스를 호출함. 다양한 형태의 메소드를 사용할 수 있는 다형성 제공\n",
    "\n",
    "class SoccerPlayer(object):\n",
    "    #필드선언\n",
    "    def __init__(self,name,position,back_number):\n",
    "        #self변수는 클래스에서 생성된 인스턴스에 접근하는 예약어\n",
    "        self.name=name\n",
    "        self.position=position\n",
    "        self.back_number=back_number\n",
    "\n",
    "    def change_back_number(self,new_number):\n",
    "        print(\"선수의 등번호를 변경한다:from %d to %d\"%(self.back_number,new_number))\n",
    "        self.back_number=new_number\n",
    "    \n",
    "    def change_name(self,new_name):\n",
    "        print(\"선수의 이름을 변경한다:from %s to %s\"%(self.name,new_name))\n",
    "        self.name=new_name\n",
    "        \n",
    "    def __str__(self):\n",
    "        return \"hello my name is %s.I paly in %s in center.\"%(self.name,self.position)\n",
    "    \n",
    "#SoccerPlayer를 사용하는 instance 코드\n",
    "james = SoccerPlayer(\"James\",\"MF\",10)\n",
    "print(\"현재 선수의 등번호는:\",james.back_number)\n",
    "james.change_back_number(5)\n",
    "print(\"현재 선수의 등번호는:\",james.back_number)\n",
    "\n",
    "print(\"=====이름 바꾸기===========\")\n",
    "\n",
    "print(\"현재 선수의 이름은:\",james.name)\n",
    "james.change_name(\"max\")\n",
    "print(\"현재 선수의 이름은:\",james.name)\n",
    "\n",
    "# __str__ 함수 호출\n",
    "print(james)"
   ]
  },
  {
   "cell_type": "code",
   "execution_count": 24,
   "metadata": {},
   "outputs": [
    {
     "name": "stdout",
     "output_type": "stream",
     "text": [
      "이름: jane\n",
      "나이: 23\n",
      "성별: femail\n"
     ]
    }
   ],
   "source": [
    "class Person(object):\n",
    "    def __init__(self,name,age,gender):\n",
    "        self.name=name\n",
    "        self.age=age\n",
    "        self.gender=gender\n",
    "        \n",
    "    def __str__(self):\n",
    "        return \"이름은 %s이고, 나이는 %d, 성별은 %s입니다.\"%(self.name,self.age,self.gender)\n",
    "    \n",
    "    def display(self):\n",
    "        print(\"이름:\",self.name)\n",
    "        print(\"나이:\",self.age)\n",
    "        print(\"성별:\",self.gender)\n",
    "        \n",
    "Jane = Person(\"jane\",23,\"femail\")\n",
    "\n",
    "Jane.display()"
   ]
  },
  {
   "cell_type": "code",
   "execution_count": 25,
   "metadata": {},
   "outputs": [
    {
     "name": "stdout",
     "output_type": "stream",
     "text": [
      "학번: 1\n",
      "전공: eng\n",
      "이름: Maria\n",
      "나이: 20\n",
      "성별: fe\n"
     ]
    }
   ],
   "source": [
    "class Student(Person):\n",
    "    def __init__(self,name,age,gender,major,sno):\n",
    "        super().__init__(name,age,gender)\n",
    "        self.major=major\n",
    "        self.sno=sno\n",
    "    \n",
    "    def display(self):\n",
    "        print(\"학번:\",self.sno)\n",
    "        print(\"전공:\",self.major)\n",
    "        super().display()\n",
    "s1=Student('Maria',20,'fe','eng',1)\n",
    "s1.display()"
   ]
  },
  {
   "cell_type": "code",
   "execution_count": 31,
   "metadata": {},
   "outputs": [
    {
     "name": "stdout",
     "output_type": "stream",
     "text": [
      "사번: 1\n",
      "이름: Lily\n",
      "나이: 20\n",
      "성별: fe\n",
      "부서: marketing\n",
      "직급: manager\n",
      "급여: 4000\n"
     ]
    }
   ],
   "source": [
    "class Employee(Person):\n",
    "    def __init__(self,name,age,gender,eno,dept,position,sal):\n",
    "        super().__init__(name,age,gender)\n",
    "        self.eno=eno\n",
    "        self.dept=dept\n",
    "        self.position=position\n",
    "        self.sal=sal\n",
    "   \n",
    "    \n",
    "    def display(self):\n",
    "        print(\"사번:\",self.eno)\n",
    "        super().display()\n",
    "        print(\"부서:\",self.dept)\n",
    "        print(\"직급:\",self.position)\n",
    "        print(\"급여:\",self.sal)\n",
    "        \n",
    "\n",
    "e1=Employee('Lily',20,'fe',1,'marketing','manager',4000)\n",
    "e1.display()"
   ]
  },
  {
   "cell_type": "code",
   "execution_count": 45,
   "metadata": {},
   "outputs": [],
   "source": [
    "#가시성 : 속성에__를 넣으면 외부에서 접근이 불가능합니다.(private 선언과 동일)\n",
    "class Project(object):\n",
    "    def __init__(self,name):\n",
    "        self.name=name\n",
    "        self.__items=[]\n",
    "\n",
    "    def add_new_item(self,item):\n",
    "        self.__items.append(item)\n",
    "        print(self.__items)"
   ]
  },
  {
   "cell_type": "code",
   "execution_count": 46,
   "metadata": {},
   "outputs": [
    {
     "name": "stdout",
     "output_type": "stream",
     "text": [
      "홍길동\n",
      "허균\n",
      "[1]\n",
      "[1, 2]\n"
     ]
    }
   ],
   "source": [
    "project=Project('홍길동')\n",
    "print(project.name)\n",
    "project.name='허균'\n",
    "print(project.name)\n",
    "#project.__items.append(1)\n",
    "project.add_new_item(1)\n",
    "project.add_new_item(2)\n",
    "#print(project.__items)"
   ]
  }
 ],
 "metadata": {
  "kernelspec": {
   "display_name": "Python 3",
   "language": "python",
   "name": "python3"
  },
  "language_info": {
   "codemirror_mode": {
    "name": "ipython",
    "version": 3
   },
   "file_extension": ".py",
   "mimetype": "text/x-python",
   "name": "python",
   "nbconvert_exporter": "python",
   "pygments_lexer": "ipython3",
   "version": "3.7.4"
  }
 },
 "nbformat": 4,
 "nbformat_minor": 2
}
