{
 "cells": [
  {
   "cell_type": "code",
   "execution_count": 3,
   "metadata": {},
   "outputs": [
    {
     "name": "stdout",
     "output_type": "stream",
     "text": [
      "섭씨 온도 입력:30\n",
      "화씨 온도는 : 86.0\n"
     ]
    }
   ],
   "source": [
    "import fah_convert\n",
    "celsius=float(input(\"섭씨 온도 입력:\"))\n",
    "fahrenheit=fah_convert.convert_c_to_f(celsius)\n",
    "print(\"화씨 온도는 :\",fahrenheit)"
   ]
  },
  {
   "cell_type": "code",
   "execution_count": 6,
   "metadata": {},
   "outputs": [
    {
     "name": "stdout",
     "output_type": "stream",
     "text": [
      "섭씨 온도 입력:30\n",
      "화씨 온도는 : 86.0\n"
     ]
    }
   ],
   "source": [
    "#from 모듈 이름 import 메소드\n",
    "#모듈안에 저 메소드만 사용하겠다.\n",
    "#같은 폴더안에 .ph 확장자파일이 존재해야함\n",
    "\n",
    "#위와 같은 상황\n",
    "\n",
    "from fah_convert import convert_c_to_f\n",
    "celsius=float(input(\"섭씨 온도 입력:\"))\n",
    "fahrenheit=fah_convert.convert_c_to_f(celsius)\n",
    "print(\"화씨 온도는 :\",fahrenheit)"
   ]
  }
 ],
 "metadata": {
  "kernelspec": {
   "display_name": "Python 3",
   "language": "python",
   "name": "python3"
  },
  "language_info": {
   "codemirror_mode": {
    "name": "ipython",
    "version": 3
   },
   "file_extension": ".py",
   "mimetype": "text/x-python",
   "name": "python",
   "nbconvert_exporter": "python",
   "pygments_lexer": "ipython3",
   "version": "3.7.4"
  }
 },
 "nbformat": 4,
 "nbformat_minor": 2
}
