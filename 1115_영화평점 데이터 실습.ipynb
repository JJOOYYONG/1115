{
 "cells": [
  {
   "cell_type": "code",
   "execution_count": 2,
   "metadata": {},
   "outputs": [],
   "source": [
    "import numpy as np"
   ]
  },
  {
   "cell_type": "code",
   "execution_count": null,
   "metadata": {},
   "outputs": [],
   "source": [
    "#https://grouplens.org/datasets/movielens\n",
    "#older datasets/MovieLens 1M Dataset/ml-1zip 다운로드\n",
    "#사용자가 지정한 경로에서 압출해제"
   ]
  },
  {
   "cell_type": "code",
   "execution_count": 4,
   "metadata": {},
   "outputs": [
    {
     "name": "stdout",
     "output_type": "stream",
     "text": [
      "(1000209, 4)\n"
     ]
    }
   ],
   "source": [
    "#영화에 대한 평점 데이트를 불러오기\n",
    "data=np.loadtxt(\"C:\\pmg\\python_work\\ml-1m/ratings.dat\",delimiter=\"::\",dtype=np.int64)\n",
    "\n",
    "#처음 5행의 데이터만 확인\n",
    "data[:5,:]\n",
    "\n",
    "#데이터의 형태 확인(행,열)\n",
    "print(data.shape)"
   ]
  },
  {
   "cell_type": "code",
   "execution_count": 5,
   "metadata": {},
   "outputs": [
    {
     "name": "stdout",
     "output_type": "stream",
     "text": [
      "3.581564453029317\n",
      "[   1    2    3 ... 3950 3951 3952]\n",
      "3706\n",
      "[   1    2    3 ... 6038 6039 6040]\n",
      "6040\n"
     ]
    }
   ],
   "source": [
    "#전체 평균 평점 계산\n",
    "mean_rating_total=data[:,2].mean()#data[:,2]전체 행, 2번째 열\n",
    "print(mean_rating_total)\n",
    "\n",
    "#영화아이디\n",
    "movie_ids=np.unique(data[:,1])\n",
    "print(movie_ids)\n",
    "print(len(movie_ids))\n",
    "\n",
    "\n",
    "\n",
    "#사용자 아이디 수집\n",
    "user_ids=np.unique(data[:,0])\n",
    "print(user_ids)\n",
    "print(len(user_ids))"
   ]
  },
  {
   "cell_type": "code",
   "execution_count": 10,
   "metadata": {},
   "outputs": [
    {
     "name": "stdout",
     "output_type": "stream",
     "text": [
      "[[1.        4.188679 ]\n",
      " [2.        3.7131784]\n",
      " [3.        3.9019608]\n",
      " [4.        4.1904764]\n",
      " [5.        3.1464646]]\n",
      "(3706, 2)\n"
     ]
    }
   ],
   "source": [
    "#영화별 평점평균\n",
    "mean_values=[]\n",
    "for movie_id in movie_ids:\n",
    "    data_for_movie = data[data[:,0]==movie_id,:]\n",
    "    value=data_for_movie[:,2].mean()\n",
    "    mean_values.append([movie_id,value])\n",
    "mean_values[:5]\n",
    "\n",
    "#리스트를 넘파이 배열로 변환\n",
    "mean_array=np.array(mean_values,dtype=np.float32)\n",
    "#5개만 간이 출력\n",
    "print(mean_array[:5])\n",
    "print(mean_array.shape)\n",
    "\n",
    "#평점결과 csv 파일로 저장\n",
    "np.savetxt(\"C:\\pmg\\python_work\\ml-1m/results.csv\",mean_array,fmt=\"%.1f\",delimiter=\",\")"
   ]
  },
  {
   "cell_type": "code",
   "execution_count": 7,
   "metadata": {},
   "outputs": [
    {
     "name": "stdout",
     "output_type": "stream",
     "text": [
      "[[1.        4.188679 ]\n",
      " [2.        3.7131784]\n",
      " [3.        3.9019608]\n",
      " [4.        4.1904764]\n",
      " [5.        3.1464646]]\n",
      "(6040, 2)\n"
     ]
    }
   ],
   "source": [
    "#사용자별 평점평균\n",
    "mean_values=[]\n",
    "for user_id in user_ids:\n",
    "    data_for_user=data[data[:,0]==user_id,:]\n",
    "    value=data_for_user[:,2].mean()\n",
    "    mean_values.append([user_id,value])\n",
    "mean_values[:5]\n",
    "\n",
    "#리스트를 넘파이 배열로 변환\n",
    "mean_array=np.array(mean_values,dtype=np.float32)\n",
    "print(mean_array[:5])\n",
    "print(mean_array.shape)\n",
    "\n",
    "#평점결과 csv 파일로 저장\n",
    "np.savetxt(\"C:\\pmg\\python_work\\ml-1m/result.csv\",mean_array,fmt=\"%.1f\",delimiter=\",\")"
   ]
  }
 ],
 "metadata": {
  "kernelspec": {
   "display_name": "Python 3",
   "language": "python",
   "name": "python3"
  },
  "language_info": {
   "codemirror_mode": {
    "name": "ipython",
    "version": 3
   },
   "file_extension": ".py",
   "mimetype": "text/x-python",
   "name": "python",
   "nbconvert_exporter": "python",
   "pygments_lexer": "ipython3",
   "version": "3.7.4"
  }
 },
 "nbformat": 4,
 "nbformat_minor": 2
}
